{
 "cells": [
  {
   "cell_type": "markdown",
   "id": "93c8ed18",
   "metadata": {},
   "source": [
    "# Fractal set generation"
   ]
  },
  {
   "cell_type": "code",
   "execution_count": 41,
   "id": "6c0efd06",
   "metadata": {},
   "outputs": [],
   "source": [
    "import numpy as np\n",
    "import matplotlib.pyplot as plt\n",
    "\n",
    "from matplotlib.table import Table"
   ]
  },
  {
   "cell_type": "code",
   "execution_count": 10,
   "id": "afb551cd",
   "metadata": {},
   "outputs": [
    {
     "name": "stdout",
     "output_type": "stream",
     "text": [
      "Fractal dimension 1.58\n"
     ]
    }
   ],
   "source": [
    "p = np.array([0.05, 0.2, 0.45, 0.3])\n",
    "d = np.log10(np.sum(p * p)) / np.log10(0.5)\n",
    "print(f\"Fractal dimension {d:.2f}\")"
   ]
  },
  {
   "cell_type": "code",
   "execution_count": 21,
   "id": "4089dff8",
   "metadata": {},
   "outputs": [
    {
     "name": "stderr",
     "output_type": "stream",
     "text": [
      "<ipython-input-21-840f7c10a581>:6: MatplotlibDeprecationWarning: Case-insensitive properties were deprecated in 3.3 and support will be removed two minor releases later\n",
      "  Table(ax, cellText=np.asarray(data, dtype=str))\n"
     ]
    },
    {
     "ename": "AttributeError",
     "evalue": "'Table' object has no property 'celltext'",
     "output_type": "error",
     "traceback": [
      "\u001b[1;31m---------------------------------------------------------------------------\u001b[0m",
      "\u001b[1;31mAttributeError\u001b[0m                            Traceback (most recent call last)",
      "\u001b[1;32m<ipython-input-21-840f7c10a581>\u001b[0m in \u001b[0;36m<module>\u001b[1;34m\u001b[0m\n\u001b[0;32m      4\u001b[0m \u001b[0max\u001b[0m \u001b[1;33m=\u001b[0m \u001b[0mfig\u001b[0m\u001b[1;33m.\u001b[0m\u001b[0madd_subplot\u001b[0m\u001b[1;33m(\u001b[0m\u001b[1;36m111\u001b[0m\u001b[1;33m)\u001b[0m\u001b[1;33m\u001b[0m\u001b[1;33m\u001b[0m\u001b[0m\n\u001b[0;32m      5\u001b[0m \u001b[1;33m\u001b[0m\u001b[0m\n\u001b[1;32m----> 6\u001b[1;33m \u001b[0mTable\u001b[0m\u001b[1;33m(\u001b[0m\u001b[0max\u001b[0m\u001b[1;33m,\u001b[0m \u001b[0mcellText\u001b[0m\u001b[1;33m=\u001b[0m\u001b[0mnp\u001b[0m\u001b[1;33m.\u001b[0m\u001b[0masarray\u001b[0m\u001b[1;33m(\u001b[0m\u001b[0mdata\u001b[0m\u001b[1;33m,\u001b[0m \u001b[0mdtype\u001b[0m\u001b[1;33m=\u001b[0m\u001b[0mstr\u001b[0m\u001b[1;33m)\u001b[0m\u001b[1;33m)\u001b[0m\u001b[1;33m\u001b[0m\u001b[1;33m\u001b[0m\u001b[0m\n\u001b[0m",
      "\u001b[1;32mc:\\python\\python39\\lib\\site-packages\\matplotlib\\table.py\u001b[0m in \u001b[0;36m__init__\u001b[1;34m(self, ax, loc, bbox, **kwargs)\u001b[0m\n\u001b[0;32m    311\u001b[0m         \u001b[0mself\u001b[0m\u001b[1;33m.\u001b[0m\u001b[0m_autoColumns\u001b[0m \u001b[1;33m=\u001b[0m \u001b[1;33m[\u001b[0m\u001b[1;33m]\u001b[0m\u001b[1;33m\u001b[0m\u001b[1;33m\u001b[0m\u001b[0m\n\u001b[0;32m    312\u001b[0m         \u001b[0mself\u001b[0m\u001b[1;33m.\u001b[0m\u001b[0m_autoFontsize\u001b[0m \u001b[1;33m=\u001b[0m \u001b[1;32mTrue\u001b[0m\u001b[1;33m\u001b[0m\u001b[1;33m\u001b[0m\u001b[0m\n\u001b[1;32m--> 313\u001b[1;33m         \u001b[0mself\u001b[0m\u001b[1;33m.\u001b[0m\u001b[0mupdate\u001b[0m\u001b[1;33m(\u001b[0m\u001b[0mkwargs\u001b[0m\u001b[1;33m)\u001b[0m\u001b[1;33m\u001b[0m\u001b[1;33m\u001b[0m\u001b[0m\n\u001b[0m\u001b[0;32m    314\u001b[0m \u001b[1;33m\u001b[0m\u001b[0m\n\u001b[0;32m    315\u001b[0m         \u001b[0mself\u001b[0m\u001b[1;33m.\u001b[0m\u001b[0mset_clip_on\u001b[0m\u001b[1;33m(\u001b[0m\u001b[1;32mFalse\u001b[0m\u001b[1;33m)\u001b[0m\u001b[1;33m\u001b[0m\u001b[1;33m\u001b[0m\u001b[0m\n",
      "\u001b[1;32mc:\\python\\python39\\lib\\site-packages\\matplotlib\\artist.py\u001b[0m in \u001b[0;36mupdate\u001b[1;34m(self, props)\u001b[0m\n\u001b[0;32m   1060\u001b[0m                     \u001b[0mfunc\u001b[0m \u001b[1;33m=\u001b[0m \u001b[0mgetattr\u001b[0m\u001b[1;33m(\u001b[0m\u001b[0mself\u001b[0m\u001b[1;33m,\u001b[0m \u001b[1;34mf\"set_{k}\"\u001b[0m\u001b[1;33m,\u001b[0m \u001b[1;32mNone\u001b[0m\u001b[1;33m)\u001b[0m\u001b[1;33m\u001b[0m\u001b[1;33m\u001b[0m\u001b[0m\n\u001b[0;32m   1061\u001b[0m                     \u001b[1;32mif\u001b[0m \u001b[1;32mnot\u001b[0m \u001b[0mcallable\u001b[0m\u001b[1;33m(\u001b[0m\u001b[0mfunc\u001b[0m\u001b[1;33m)\u001b[0m\u001b[1;33m:\u001b[0m\u001b[1;33m\u001b[0m\u001b[1;33m\u001b[0m\u001b[0m\n\u001b[1;32m-> 1062\u001b[1;33m                         raise AttributeError(f\"{type(self).__name__!r} object \"\n\u001b[0m\u001b[0;32m   1063\u001b[0m                                              f\"has no property {k!r}\")\n\u001b[0;32m   1064\u001b[0m                     \u001b[0mret\u001b[0m\u001b[1;33m.\u001b[0m\u001b[0mappend\u001b[0m\u001b[1;33m(\u001b[0m\u001b[0mfunc\u001b[0m\u001b[1;33m(\u001b[0m\u001b[0mv\u001b[0m\u001b[1;33m)\u001b[0m\u001b[1;33m)\u001b[0m\u001b[1;33m\u001b[0m\u001b[1;33m\u001b[0m\u001b[0m\n",
      "\u001b[1;31mAttributeError\u001b[0m: 'Table' object has no property 'celltext'"
     ]
    },
    {
     "data": {
      "image/png": "[encoded data removed]",
      "text/plain": [
       "<Figure size 432x288 with 1 Axes>"
      ]
     },
     "metadata": {
      "needs_background": "light"
     },
     "output_type": "display_data"
    }
   ],
   "source": [
    "data = p.reshape(2, 2)\n",
    "\n",
    "fig = plt.figure()\n",
    "ax = fig.add_subplot(111)\n",
    "\n",
    "Table(ax, cellText=np.asarray(data, dtype=str))"
   ]
  },
  {
   "cell_type": "code",
   "execution_count": 13,
   "id": "50e755b4",
   "metadata": {},
   "outputs": [
    {
     "data": {
      "text/plain": [
       "array([[0.05, 0.2 ],\n",
       "       [0.45, 0.3 ]])"
      ]
     },
     "execution_count": 13,
     "metadata": {},
     "output_type": "execute_result"
    }
   ],
   "source": [
    "data"
   ]
  },
  {
   "cell_type": "code",
   "execution_count": 37,
   "id": "13f4f298",
   "metadata": {},
   "outputs": [
    {
     "data": {
      "image/png": "[encoded data removed]",
      "text/plain": [
       "<Figure size 1008x720 with 1 Axes>"
      ]
     },
     "metadata": {
      "needs_background": "light"
     },
     "output_type": "display_data"
    }
   ],
   "source": [
    "import numpy as np\n",
    "import matplotlib.pyplot as plt\n",
    "\n",
    "MAX_LEVEL = 1\n",
    "\n",
    "\n",
    "def sierpinski(p1, p2, p3, level=0):\n",
    "    if level >= MAX_LEVEL:\n",
    "        yield plt.Polygon([p1, p2, p3], color='red')\n",
    "        return\n",
    "\n",
    "    yield from sierpinski(p1, (p1+p2) / 2, (p1+p3) / 2, level+1)\n",
    "    yield from sierpinski((p1+p2) / 2, p2, (p2+p3) / 2, level+1)\n",
    "    yield from sierpinski((p1+p3) / 2, (p2+p3) / 2, p3, level+1)\n",
    "\n",
    "\n",
    "plt.figure(figsize=(14, 10))\n",
    "plt.scatter([0, 0, 10, 10], [0, 10, 0, 10], color='blue')\n",
    "\n",
    "for patch in sierpinski(\n",
    "        np.array([1.0, 1.0]), np.array([9.0, 1.0]), np.array([5.0, 9.0])):\n",
    "    plt.gca().add_patch(patch)\n",
    "\n",
    "plt.show()"
   ]
  },
  {
   "cell_type": "code",
   "execution_count": null,
   "id": "26da54ab",
   "metadata": {},
   "outputs": [
    {
     "name": "stdout",
     "output_type": "stream",
     "text": [
      "0.32\n",
      "False\n"
     ]
    }
   ],
   "source": [
    "from dataclasses import dataclass\n",
    "\n",
    "@dataclass\n",
    "class Triangle:\n",
    "    x1: float\n",
    "    y1: float\n",
    "    x2: float\n",
    "    y2: float\n",
    "    x3: float\n",
    "    y3: float\n",
    "        \n",
    "    def area(self):\n",
    "        return 0.5 * abs(self.x1 * (self.y2 - self.y3) + self.x2 * (self.y3 - self.y1) + self.x3 * (self.y1 - self.y2))\n",
    "    \n",
    "    def check_p(self, x, y):\n",
    "        t1 = Triangle(x, y, self.x2, self.y2, self.x3, self.y3)\n",
    "        t2 = Triangle(self.x1, self.y1, x, y, self.x3, self.y3)\n",
    "        t3 = Triangle(self.x1, self.y1, self.x2, self.y2, x, y)\n",
    "        A = self.area()\n",
    "        A1 = t1.area()\n",
    "        A2 = t2.area()\n",
    "        A3 = t3.area()\n",
    "        return abs(A - (A1 + A2 + A3)) < 1e-6\n",
    "        \n",
    "t = Triangle(0.1, 0.1, 0.9, 0.1, 0.5, 0.9)\n",
    "print(f'{t.area():.2f}')\n",
    "print(f'{t.check_p(1, 2)}')\n",
    "\n",
    "triangle_list = [t]\n",
    "\n",
    "def sierpinski(triangle_list):\n",
    "    new_list = []\n",
    "    for t in triangle_list:\n",
    "        dx12 = t.x1 + 0.5 * (t.x2 - t.x1)\n",
    "        dy12 = t.y1 + 0.5 * (t.y2 - t.y1)\n",
    "        dx23 = t.x2 + 0.5 * (t.x3 - t.x2)\n",
    "        dy23 = t.y2 + 0.5 * (t.y3 - t.y2)\n",
    "        dx31 = t.x3 + 0.5 * (t.x1 - t.x3)\n",
    "        dy31 = t.y3 + 0.5 * (t.y1 - t.y3)\n",
    "        t1 = Triangle(t.x1, t.y1, dx12, dy12, dx31, dy31)\n",
    "        t2 = Triangle(t.x2, t.y2, dx12, dy12, dx23, dy23)\n",
    "        t3 = Triangle(t.x3, t.y3, dx31, dy31, dx23, dy23)\n",
    "        new_list.append(t1)\n",
    "        new_list.append(t2)\n",
    "        new_list.append(t3)\n",
    "    return new_list\n",
    "\n",
    "\n",
    "N = 200000\n",
    "D = 2\n",
    "data = np.random.rand(D * N).reshape(N, D)\n",
    "selected = data\n",
    "\n",
    "n = 7\n",
    "for i in range(n):\n",
    "    new = []\n",
    "    for point in selected:\n",
    "        for t in triangle_list:\n",
    "            if t.check_p(point[0], point[1]):\n",
    "                new.append(point)\n",
    "    selected = np.array(new)\n",
    "    triangle_list = sierpinski(triangle_list)\n",
    "\n",
    "plt.figure(figsize=(10, 7))\n",
    "plt.scatter(selected[:, 0], selected[:, 1], s=1)\n",
    "plt.show()"
   ]
  },
  {
   "cell_type": "code",
   "execution_count": 131,
   "id": "3a0cedcc",
   "metadata": {},
   "outputs": [
    {
     "data": {
      "text/plain": [
       "array([], dtype=float64)"
      ]
     },
     "execution_count": 131,
     "metadata": {},
     "output_type": "execute_result"
    }
   ],
   "source": []
  },
  {
   "cell_type": "code",
   "execution_count": null,
   "id": "e3eff70b",
   "metadata": {},
   "outputs": [],
   "source": []
  }
 ],
 "metadata": {
  "kernelspec": {
   "display_name": "Python 3",
   "language": "python",
   "name": "python3"
  },
  "language_info": {
   "codemirror_mode": {
    "name": "ipython",
    "version": 3
   },
   "file_extension": ".py",
   "mimetype": "text/x-python",
   "name": "python",
   "nbconvert_exporter": "python",
   "pygments_lexer": "ipython3",
   "version": "3.9.5"
  }
 },
 "nbformat": 4,
 "nbformat_minor": 5
}

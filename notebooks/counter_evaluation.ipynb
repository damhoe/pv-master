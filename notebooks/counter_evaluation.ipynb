{
 "cells": [
  {
   "cell_type": "code",
   "execution_count": 14,
   "id": "eabc78ab",
   "metadata": {},
   "outputs": [
    {
     "name": "stdout",
     "output_type": "stream",
     "text": [
      "Real inital desity n_i = 0.0123\n",
      "\n",
      "Elapsed time 99.222589\n"
     ]
    },
    {
     "data": {
      "image/png": "[encoded data removed]",
      "text/plain": [
       "<Figure size 576x288 with 1 Axes>"
      ]
     },
     "metadata": {
      "needs_background": "light"
     },
     "output_type": "display_data"
    }
   ],
   "source": [
    "\"\"\"\n",
    "Evaluation of simple proximity dynamics model by counting method.\n",
    "\n",
    "\n",
    "(i) Model the network dynamics of solar panel installation\n",
    "    by assuming panel proximity as the main determining variable.\n",
    "(ii) Evaluate the early diffusion by counting solar panels in surrounding circle areas (radius r)\n",
    "    For each new panel at time t-1, the number of new panels within A_r at time t (t+1, ...) is calculated\n",
    "\n",
    "\"\"\"\n",
    "from time import time\n",
    "\n",
    "import numpy as np\n",
    "\n",
    "from numpy import array, dot, exp, sqrt\n",
    "from numpy.random import rand, seed\n",
    "from scipy.spatial.distance import pdist, squareform\n",
    "\n",
    "import matplotlib.pyplot as plt\n",
    "\n",
    "import pandas as pd\n",
    "# ----------------\n",
    "# model parameters\n",
    "# ----------------\n",
    "# \n",
    "# all distances are normalized by r0 = 0.21 km\n",
    "# i.e. r = 20 corresponds to r_real = 210 m * 20 = 4.2 km\n",
    "# \n",
    "# $ Fresno area (about 270 km^2)\n",
    "# -> model area 256 km^2 (= 16 x 16 km^2)\n",
    "\n",
    "r0 = 0.21 # km\n",
    "\n",
    "# number of addresses\n",
    "## original number N=3*10^5 \n",
    "## rescale for computability (limited memory capacity)\n",
    "NO = 300000\n",
    "scale = 1.0 / 30\n",
    "N = int(NO * scale)\n",
    "\n",
    "# area under test L^2\n",
    "# rescale by sqrt(scale)\n",
    "L = 16.0 / r0 * sqrt(scale) # km\n",
    "\n",
    "# initial panel density\n",
    "# at start of simulation\n",
    "# the reference density for the analysis is n=3%\n",
    "n0 = 0.01\n",
    "\n",
    "seed(0)\n",
    "\n",
    "# create pseudo-random locations\n",
    "locs = rand(N, 2) * L\n",
    "all_dist = squareform(pdist(locs))\n",
    "\n",
    "# initial state\n",
    "state = rand(N) < n0\n",
    "\n",
    "def density(state): # state: boolean 1-D array\n",
    "    int_state = array(state, dtype='int32')\n",
    "    return sum(int_state) * 1.0 / N\n",
    "\n",
    "n_real = density(state)\n",
    "\n",
    "print(\"Real inital desity n_i = %.4f\\n\" % n_real)\n",
    "\n",
    "exp_all_dist = exp(-all_dist)\n",
    "\n",
    "def mc_step(locs, state):\n",
    "    #\n",
    "    # iterate over all locations\n",
    "    # and update with weight exp(-d_r)\n",
    "    \n",
    "    rnds = rand(N) * N\n",
    "    \n",
    "    new_panels = []\n",
    "    \n",
    "    for i, panel in enumerate(state):\n",
    "        if not panel:       \n",
    "            p = dot(exp_all_dist[i], state)\n",
    "            state[i] = p > rnds[i]\n",
    "            if state[i]: \n",
    "                new_panels.append(i)\n",
    "            \n",
    "    return np.array(new_panels, dtype='int32')\n",
    "\n",
    "# save densities for visualizing global diffusion\n",
    "densities = []\n",
    "\n",
    "#----------------\n",
    "# run simulation\n",
    "#----------------\n",
    "n_steps = 500 # MC steps\n",
    "\n",
    "tol = 1e-3\n",
    "period = 10 # measured in MC steps\n",
    "\n",
    "# determine radii and intervals of interest\n",
    "radii = np.array([0.5, 1.0, 2.0, 4.0], dtype='float32') * sqrt(scale) / r0\n",
    "intervals = np.array([1, 2, 3, 4], dtype='int8') # in periods\n",
    "\n",
    "# indices of locs which change from state \n",
    "# False to True in a given period\n",
    "new_panels = np.array([], dtype='int32')\n",
    "last_new_panels = np.array([], dtype='int32')\n",
    "new_panels_history = []\n",
    "\n",
    "\n",
    "results = []\n",
    "results_scaled = []\n",
    "\n",
    "countP = 0\n",
    "tStart = time()\n",
    "\n",
    "for step in range(n_steps):\n",
    "    \n",
    "    countP += 1\n",
    "    current_new_panels = mc_step(locs, state)\n",
    "    new_panels = np.concatenate((new_panels, current_new_panels), axis=None)\n",
    "    \n",
    "    n = density(state)\n",
    "    if n > 0.5:\n",
    "        break\n",
    "    densities.append(n)\n",
    "    \n",
    "    if countP >= period:\n",
    "        # initialize tables for saving data\n",
    "        panel_count_table = np.zeros((radii.size, intervals.size))\n",
    "        panel_count_table_scaled = np.zeros((radii.size, intervals.size))\n",
    "        \n",
    "        # bool array for vectorized computation\n",
    "        loc_is_new_panel = np.zeros(N, dtype='bool')\n",
    "        loc_is_new_panel[new_panels] = True\n",
    "        \n",
    "        # fill panel count tables\n",
    "        # for each last new panel\n",
    "        # calculate relative nb of new panels within A_r        \n",
    "        for k, radius in enumerate(radii):\n",
    "            for j, timestamp in enumerate(intervals):\n",
    "                if timestamp > len(new_panels_history): continue\n",
    "    \n",
    "                last_new_panels = new_panels_history[-timestamp]\n",
    "                    \n",
    "                # for vectorized computaion\n",
    "                loc_is_last_new_panel = np.zeros(N, dtype='bool')\n",
    "                loc_is_last_new_panel[last_new_panels] = True\n",
    "\n",
    "                neighbourhood = all_dist < radius\n",
    "                helper = np.tile(loc_is_new_panel, (N, 1))\n",
    "                neighbourhood_panels = np.logical_and(helper, neighbourhood)\n",
    "\n",
    "                n_neighbours = np.sum(neighbourhood, axis=1)[loc_is_last_new_panel]\n",
    "                n_panels = np.sum(neighbourhood_panels, axis=1)[loc_is_last_new_panel]\n",
    "                n_panels_rel = n_panels / n_neighbours\n",
    "                avg_n_panels_rel = np.sum(n_panels_rel) / n_panels_rel.size\n",
    "                \n",
    "                panel_count_table[k][j] = avg_n_panels_rel\n",
    "                panel_count_table_scaled[k][j] = avg_n_panels_rel / new_panels.size\n",
    "        \n",
    "        results.append(panel_count_table)\n",
    "        results_scaled.append(panel_count_table_scaled)\n",
    "        new_panels_history.append(new_panels)\n",
    "        new_panels = np.array([], dtype='int32')\n",
    "        countP = 0\n",
    "    # END IF\n",
    "    \n",
    "\n",
    "\n",
    "elapsed = time() - tStart\n",
    "print(\"Elapsed time %f\" % elapsed)\n",
    "\n",
    "# output\n",
    "fig = plt.figure(figsize=(8, 4))\n",
    "plt.plot(densities)\n",
    "plt.xlabel('MC step')\n",
    "plt.ylabel('module density')\n",
    "plt.show()\n",
    "\n",
    "df = pd.DataFrame()"
   ]
  },
  {
   "cell_type": "code",
   "execution_count": 15,
   "id": "21e59318",
   "metadata": {},
   "outputs": [
    {
     "name": "stdout",
     "output_type": "stream",
     "text": [
      "Avg relative new panels in area A_r/r0 after xxx Periods\n",
      "\n",
      "r/r0 |\t1 P \t \t2 P \t \t3 P \t \t4 P \t \t\n",
      "\n",
      "0.43 |\t3.374e-02 \t3.358e-02 \t3.318e-02 \t3.285e-02 \t\n",
      "0.87 |\t3.415e-02 \t3.423e-02 \t3.463e-02 \t3.372e-02 \t\n",
      "1.74 |\t3.455e-02 \t3.442e-02 \t3.438e-02 \t3.371e-02 \t\n",
      "3.48 |\t3.450e-02 \t3.434e-02 \t3.443e-02 \t3.374e-02 \t\n"
     ]
    }
   ],
   "source": [
    "print(\"Avg relative new panels in area A_r/r0 after xxx Periods\")\n",
    "\n",
    "mean = np.zeros((radii.size, intervals.size))\n",
    "\n",
    "c = 0\n",
    "for i in range(3, len(results)):\n",
    "    mean += results[i]\n",
    "    c += 1\n",
    "                \n",
    "mc = mean / c\n",
    "\n",
    "print(\"\")\n",
    "\n",
    "header = \"r/r0 |\\t\"\n",
    "for i, inter in enumerate(intervals):\n",
    "    header += \"%d P \\t \\t\" % inter\n",
    "\n",
    "print(header)\n",
    "print(\"\")\n",
    "\n",
    "for j, r in enumerate(radii):\n",
    "    line = \"%.2f |\\t\" % r\n",
    "    for i, inter in enumerate(intervals):\n",
    "        line += \"%.3e \\t\" % mc[j, i]\n",
    "    \n",
    "    print(line)"
   ]
  },
  {
   "cell_type": "code",
   "execution_count": 16,
   "id": "47b0c506",
   "metadata": {},
   "outputs": [
    {
     "name": "stdout",
     "output_type": "stream",
     "text": [
      "Avg relative new panels in area A_r/r0 after xxx Periods normalized by the total count of new panels\n",
      "\n",
      "r/r0 |\t1 P \t \t2 P \t \t3 P \t \t4 P \t \t\n",
      "\n",
      "0.43 |\t1.049e-04 \t1.020e-04 \t1.011e-04 \t9.525e-05 \t\n",
      "0.87 |\t1.066e-04 \t1.058e-04 \t1.079e-04 \t9.949e-05 \t\n",
      "1.74 |\t1.064e-04 \t1.062e-04 \t1.065e-04 \t9.918e-05 \t\n",
      "3.48 |\t1.063e-04 \t1.061e-04 \t1.059e-04 \t9.788e-05 \t\n"
     ]
    }
   ],
   "source": [
    "print(\"Avg relative new panels in area A_r/r0 after xxx Periods normalized by the total count of new panels\")\n",
    "\n",
    "mean = np.zeros((radii.size, intervals.size))\n",
    "\n",
    "c = 0\n",
    "for i in range(3, len(results_scaled)):\n",
    "    mean += results_scaled[i]\n",
    "    c += 1\n",
    "                \n",
    "mc = mean / c\n",
    "\n",
    "print(\"\")\n",
    "\n",
    "header = \"r/r0 |\\t\"\n",
    "for i, inter in enumerate(intervals):\n",
    "    header += \"%d P \\t \\t\" % inter\n",
    "\n",
    "print(header)\n",
    "print(\"\")\n",
    "\n",
    "for j, r in enumerate(radii):\n",
    "    line = \"%.2f |\\t\" % r\n",
    "    for i, inter in enumerate(intervals):\n",
    "        line += \"%.3e \\t\" % mc[j, i]\n",
    "    \n",
    "    print(line)"
   ]
  },
  {
   "cell_type": "code",
   "execution_count": 72,
   "id": "1c13db50",
   "metadata": {},
   "outputs": [
    {
     "name": "stdout",
     "output_type": "stream",
     "text": [
      "Real inital desity n_i = 0.0073\n",
      "\n",
      "Elapsed time 16.310954\n"
     ]
    },
    {
     "data": {
      "image/png": "[encoded data removed]",
      "text/plain": [
       "<Figure size 576x288 with 1 Axes>"
      ]
     },
     "metadata": {
      "needs_background": "light"
     },
     "output_type": "display_data"
    },
    {
     "name": "stderr",
     "output_type": "stream",
     "text": [
      "<ipython-input-72-fa1cee0447b5>:185: RuntimeWarning: divide by zero encountered in log\n",
      "  data = np.log(data)\n"
     ]
    },
    {
     "data": {
      "text/plain": [
       "Text(0.5, 0, 'log r')"
      ]
     },
     "execution_count": 72,
     "metadata": {},
     "output_type": "execute_result"
    },
    {
     "data": {
      "image/png": "[encoded data removed]",
      "text/plain": [
       "<Figure size 432x288 with 1 Axes>"
      ]
     },
     "metadata": {
      "needs_background": "light"
     },
     "output_type": "display_data"
    }
   ],
   "source": [
    "\"\"\"\n",
    "Evaluation of simple proximity dynamics model by counting method.\n",
    "\n",
    "\n",
    "(i) Model the network dynamics of solar panel installation\n",
    "    by assuming panel proximity as the main determining variable.\n",
    "(ii) Evaluate the early diffusion by counting solar panels in surrounding circle areas (radius r)\n",
    "    For each new panel at time t-1, the number of new panels within A_r at time t (t+1, ...) is calculated\n",
    "\n",
    "\"\"\"\n",
    "from time import time\n",
    "\n",
    "import numpy as np\n",
    "\n",
    "from numpy import array, dot, exp, sqrt\n",
    "from numpy.random import rand, seed\n",
    "from scipy.spatial.distance import pdist, squareform\n",
    "\n",
    "import matplotlib.pyplot as plt\n",
    "\n",
    "import pandas as pd\n",
    "# ----------------\n",
    "# model parameters\n",
    "# ----------------\n",
    "# \n",
    "# all distances are normalized by r0 = 0.21 km\n",
    "# i.e. r = 20 corresponds to r_real = 210 m * 20 = 4.2 km\n",
    "# \n",
    "# $ Fresno area (about 270 km^2)\n",
    "# -> model area 256 km^2 (= 16 x 16 km^2)\n",
    "\n",
    "r0 = 0.21 # km\n",
    "\n",
    "# number of addresses\n",
    "## original number N=3*10^5 \n",
    "## rescale for computability (limited memory capacity)\n",
    "NO = 30000\n",
    "scale = 1.0 / 30\n",
    "N = int(NO * scale)\n",
    "\n",
    "# area under test L^2\n",
    "# rescale by sqrt(scale)\n",
    "L = 16.0 / r0 * sqrt(scale) # km\n",
    "\n",
    "# initial panel density\n",
    "# at start of simulation\n",
    "# the reference density for the analysis is n=3%\n",
    "n0 = 0.01\n",
    "\n",
    "seed(0)\n",
    "\n",
    "# create pseudo-random locations\n",
    "#locs = rand(N, 2) * L\n",
    "\n",
    "# create equidistant locations\n",
    "sqrtN = int(sqrt(N))\n",
    "x = np.arange(0, sqrtN) * L / sqrtN\n",
    "y = np.arange(0, sqrtN) * L / sqrtN\n",
    "xx, yy = np.meshgrid(x, y, sparse=False)\n",
    "locs = np.stack((xx.flatten(), yy.flatten()), 1)\n",
    "all_dist = squareform(pdist(locs))\n",
    "\n",
    "N = int(sqrtN * sqrtN)\n",
    "\n",
    "# initial state\n",
    "state = rand(N) < n0\n",
    "\n",
    "def density(state): # state: boolean 1-D array\n",
    "    int_state = array(state, dtype='int32')\n",
    "    return sum(int_state) * 1.0 / N\n",
    "\n",
    "n_real = density(state)\n",
    "\n",
    "print(\"Real inital desity n_i = %.4f\\n\" % n_real)\n",
    "\n",
    "exp_all_dist = exp(-all_dist)\n",
    "\n",
    "def mc_step(locs, state):\n",
    "    #\n",
    "    # iterate over all locations\n",
    "    # and update with weight exp(-d_r)\n",
    "    \n",
    "    rnds = rand(N) * N\n",
    "    \n",
    "    new_panels = []\n",
    "    \n",
    "    for i, panel in enumerate(state):\n",
    "        if not panel:       \n",
    "            p = dot(exp_all_dist[i], state)\n",
    "            state[i] = p > rnds[i]\n",
    "            if state[i]: \n",
    "                new_panels.append(i)\n",
    "            \n",
    "    return np.array(new_panels, dtype='int32')\n",
    "\n",
    "def count_new_panels_at_r(r, old_panel, new_panels, locs):\n",
    "    # count new panels at distance r\n",
    "    count = 0\n",
    "    n = 0\n",
    "    tol = 0.4 # km\n",
    "    dmin2 = (r - tol) * (r - tol)\n",
    "    dmax2 = (r + tol) * (r + tol)\n",
    "    \n",
    "    x0, y0 = locs[old_panel]\n",
    "    for i, (x, y) in enumerate(locs):\n",
    "        m = (x0-x) * (x0-x) + (y0-y) * (y0-y)\n",
    "        if dmin2 < m and dmax2 > m:\n",
    "            if i in new_panels:\n",
    "                count += 1\n",
    "            n += 1\n",
    "    \n",
    "    if n == 0:\n",
    "        return 0\n",
    "    return count * 1./n\n",
    "\n",
    "# save densities for visualizing global diffusion\n",
    "densities = []\n",
    "\n",
    "#----------------\n",
    "# run simulation\n",
    "#----------------\n",
    "n_steps = 200 # MC steps\n",
    "\n",
    "tol = 1e-3\n",
    "period = 10 # measured in MC steps\n",
    "\n",
    "# determine radii and intervals of interest\n",
    "#radii = np.array([0.5, 1.0, 2.0, 4.0], dtype='float32') * sqrt(scale) / r0\n",
    "#r_start = np.log(0.2 * sqrt(scale) / r0)\n",
    "#r_stop = np.log(4.0 * sqrt(scale) / r0)\n",
    "radii = np.linspace(0.2, 4.0, 20, endpoint=True)\n",
    "\n",
    "# indices of locs which change from state \n",
    "# False to True in a given period\n",
    "new_panels = np.array([], dtype='int32')\n",
    "old_new_panels = np.array([], dtype='int32')\n",
    "\n",
    "countP = 0\n",
    "tStart = time()\n",
    "\n",
    "data = np.array([], dtype='float64')\n",
    "\n",
    "for step in range(n_steps):\n",
    "    \n",
    "    countP += 1\n",
    "    current_new_panels = mc_step(locs, state)\n",
    "    new_panels = np.concatenate((new_panels, current_new_panels), axis=None)\n",
    "    \n",
    "    n = density(state)\n",
    "    if n > 0.6:\n",
    "        break\n",
    "    densities.append(n)\n",
    "    \n",
    "    if countP >= period:\n",
    "        \n",
    "        for r in radii:\n",
    "            counts = []\n",
    "            for old_panel in old_new_panels:\n",
    "                n = count_new_panels_at_r(r, old_panel, new_panels, locs)\n",
    "                counts.append(n)\n",
    "            \n",
    "            if len(counts) > 0:\n",
    "                data = np.append(data, [r, np.mean(counts) / r])\n",
    "            \n",
    "        \n",
    "        old_new_panels = new_panels\n",
    "        new_panels = np.array([], dtype='int32')\n",
    "        countP = 0\n",
    "    \n",
    "    # END IF\n",
    "    \n",
    "\n",
    "\n",
    "elapsed = time() - tStart\n",
    "print(\"Elapsed time %f\" % elapsed)\n",
    "\n",
    "# output\n",
    "fig = plt.figure(figsize=(8, 4))\n",
    "plt.plot(densities)\n",
    "plt.xlabel('MC step')\n",
    "plt.ylabel('module density')\n",
    "plt.show()\n",
    "\n",
    "data = data.reshape((int(data.shape[0] / 2), 2))\n",
    "data = np.log(data)\n",
    "plt.plot(data[:, 0], data[:, 1], 'o')\n",
    "plt.axis('equal')\n",
    "plt.ylabel(\" log n / r\")\n",
    "plt.xlabel(\"log r\")"
   ]
  },
  {
   "cell_type": "code",
   "execution_count": 119,
   "id": "caf7e419",
   "metadata": {},
   "outputs": [
    {
     "name": "stdout",
     "output_type": "stream",
     "text": [
      "Real inital desity n_i = 0.0077\n",
      "\n",
      "Elapsed time 95.329707\n"
     ]
    },
    {
     "data": {
      "image/png": "[encoded data removed]",
      "text/plain": [
       "<Figure size 576x288 with 1 Axes>"
      ]
     },
     "metadata": {
      "needs_background": "light"
     },
     "output_type": "display_data"
    },
    {
     "data": {
      "text/plain": [
       "Text(0.5, 0, 'log r')"
      ]
     },
     "execution_count": 119,
     "metadata": {},
     "output_type": "execute_result"
    },
    {
     "data": {
      "image/png": "[encoded data removed]",
      "text/plain": [
       "<Figure size 432x288 with 1 Axes>"
      ]
     },
     "metadata": {
      "needs_background": "light"
     },
     "output_type": "display_data"
    }
   ],
   "source": [
    "\"\"\"\n",
    "Evaluation of simple proximity dynamics model by counting method.\n",
    "\n",
    "\n",
    "(i) Model the network dynamics of solar panel installation\n",
    "    by assuming panel proximity as the main determining variable.\n",
    "(ii) Evaluate the early diffusion by counting solar panels in surrounding circle areas (radius r)\n",
    "    For each new panel at time t-1, the number of new panels within A_r at time t (t+1, ...) is calculated\n",
    "\n",
    "\"\"\"\n",
    "from time import time\n",
    "\n",
    "import numpy as np\n",
    "\n",
    "from numpy import array, dot, exp, sqrt, extract\n",
    "from numpy.random import rand, seed\n",
    "from scipy.spatial.distance import pdist, squareform\n",
    "\n",
    "import matplotlib.pyplot as plt\n",
    "\n",
    "import pandas as pd\n",
    "# ----------------\n",
    "# model parameters\n",
    "# ----------------\n",
    "# \n",
    "# all distances are normalized by r0 = 0.21 km\n",
    "# i.e. r = 20 corresponds to r_real = 210 m * 20 = 4.2 km\n",
    "# \n",
    "# $ Fresno area (about 270 km^2)\n",
    "# -> model area 256 km^2 (= 16 x 16 km^2)\n",
    "\n",
    "r0 = 0.21 # km\n",
    "\n",
    "# number of addresses\n",
    "## original number N=3*10^5 \n",
    "## rescale for computability (limited memory capacity)\n",
    "NO = 60000\n",
    "scale = 1.0 / 30\n",
    "N = int(NO * scale)\n",
    "\n",
    "# area under test L^2\n",
    "# rescale by sqrt(scale)\n",
    "L = 16.0 / r0 * sqrt(scale) # km\n",
    "\n",
    "# initial panel density\n",
    "# at start of simulation\n",
    "# the reference density for the analysis is n=3%\n",
    "n0 = 0.01\n",
    "\n",
    "seed(0)\n",
    "\n",
    "# create pseudo-random locations\n",
    "#locs = rand(N, 2) * L\n",
    "\n",
    "# create equidistant locations\n",
    "sqrtN = int(sqrt(N))\n",
    "x = np.arange(0, sqrtN) * L / sqrtN\n",
    "y = np.arange(0, sqrtN) * L / sqrtN\n",
    "xx, yy = np.meshgrid(x, y, sparse=False)\n",
    "locs = np.stack((xx.flatten(), yy.flatten()), 1)\n",
    "all_dist = squareform(pdist(locs))\n",
    "N = int(sqrtN * sqrtN)\n",
    "\n",
    "\n",
    "# initial state\n",
    "state = rand(N) < n0\n",
    "\n",
    "def density(state): # state: boolean 1-D array\n",
    "    int_state = array(state, dtype='int32')\n",
    "    return sum(int_state) * 1.0 / N\n",
    "\n",
    "n_real = density(state)\n",
    "\n",
    "print(\"Real inital desity n_i = %.4f\\n\" % n_real)\n",
    "\n",
    "exp_all_dist = exp(-all_dist)\n",
    "\n",
    "def mc_step(locs, state):\n",
    "    #\n",
    "    # iterate over all locations\n",
    "    # and update with weight exp(-d_r)\n",
    "    \n",
    "    rnds = rand(N)\n",
    "    new_panels = []\n",
    "    for i, panel in enumerate(state):\n",
    "        if not panel:\n",
    "            # get distance of nearest solar cell\n",
    "            cell_distances = extract(state, all_dist[i])\n",
    "            d = np.min(cell_distances)\n",
    "            # set probability\n",
    "            scale = 0.01\n",
    "            p = scale * exp(-d)\n",
    "            state[i] = p > rnds[i]\n",
    "            if state[i]: \n",
    "                new_panels.append(i)\n",
    "                \n",
    "    return np.asarray(new_panels, dtype='int32')\n",
    "\n",
    "def count_new_panels_at_r(r, old_panel, new_panels, locs):\n",
    "    # count new panels at distance r\n",
    "    count = 0\n",
    "    n = 0\n",
    "    tol = 0.3 # km\n",
    "    dmin2 = (r - tol) * (r - tol)\n",
    "    dmax2 = (r + tol) * (r + tol)\n",
    "    \n",
    "    x0, y0 = locs[old_panel]\n",
    "    for i, (x, y) in enumerate(locs):\n",
    "        m = (x0-x) * (x0-x) + (y0-y) * (y0-y)\n",
    "        if dmin2 < m and dmax2 > m:\n",
    "            if i in new_panels:\n",
    "                count += 1\n",
    "            n += 1\n",
    "    \n",
    "    if n == 0:\n",
    "        return 0\n",
    "    return count * 1./n\n",
    "\n",
    "# save densities for visualizing global diffusion\n",
    "densities = []\n",
    "\n",
    "#----------------\n",
    "# run simulation\n",
    "#----------------\n",
    "n_steps = 150 # MC steps\n",
    "\n",
    "tol = 1e-3\n",
    "period = 10 # measured in MC steps\n",
    "\n",
    "# determine radii and intervals of interest\n",
    "#radii = np.array([0.5, 1.0, 2.0, 4.0], dtype='float32') * sqrt(scale) / r0\n",
    "#r_start = np.log(0.2 * sqrt(scale) / r0)\n",
    "#r_stop = np.log(4.0 * sqrt(scale) / r0)\n",
    "radii = np.linspace(0.2, 4.0, 20, endpoint=True)\n",
    "\n",
    "# indices of locs which change from state \n",
    "# False to True in a given period\n",
    "new_panels = np.array([], dtype='int32')\n",
    "old_new_panels = np.array([], dtype='int32')\n",
    "\n",
    "countP = 0\n",
    "tStart = time()\n",
    "\n",
    "data = np.array([], dtype='float64')\n",
    "\n",
    "for step in range(n_steps):\n",
    "    \n",
    "    countP += 1\n",
    "    current_new_panels = mc_step(locs, state)\n",
    "    new_panels = np.concatenate((new_panels, current_new_panels), axis=None)\n",
    "    \n",
    "    n = density(state)\n",
    "    if n > 0.6:\n",
    "        break\n",
    "    densities.append(n)\n",
    "    \n",
    "    if countP >= period:\n",
    "        \n",
    "        for r in radii:\n",
    "            counts = []\n",
    "            for old_panel in old_new_panels:\n",
    "                n = count_new_panels_at_r(r, old_panel, new_panels, locs)\n",
    "                counts.append(n)\n",
    "            \n",
    "            if len(counts) > 0:\n",
    "                data = np.append(data, [r, np.mean(counts)])\n",
    "            \n",
    "        \n",
    "        old_new_panels = new_panels\n",
    "        new_panels = np.array([], dtype='int32')\n",
    "        countP = 0\n",
    "    \n",
    "    # END IF\n",
    "    \n",
    "\n",
    "\n",
    "elapsed = time() - tStart\n",
    "print(\"Elapsed time %f\" % elapsed)\n",
    "\n",
    "# output\n",
    "fig = plt.figure(figsize=(8, 4))\n",
    "plt.plot(densities)\n",
    "plt.xlabel('MC step')\n",
    "plt.ylabel('module density')\n",
    "plt.show()\n",
    "\n",
    "df = pd.DataFrame()\n",
    "data = data.reshape((int(data.shape[0] / 2), 2))\n",
    "#data = np.log(data)\n",
    "plt.plot(data[:, 0], np.log(data[:, 1]), 'o')\n",
    "plt.axis('equal')\n",
    "plt.ylabel(\" log n / r\")\n",
    "plt.xlabel(\"log r\")"
   ]
  },
  {
   "cell_type": "code",
   "execution_count": 116,
   "id": "d7466c71",
   "metadata": {},
   "outputs": [
    {
     "name": "stderr",
     "output_type": "stream",
     "text": [
      "<ipython-input-116-83395e1ef471>:2: RuntimeWarning: divide by zero encountered in true_divide\n",
      "  plt.plot(1./x)\n",
      "<ipython-input-116-83395e1ef471>:3: RuntimeWarning: divide by zero encountered in true_divide\n",
      "  plt.plot(1./np.exp(x) * 1./x)\n"
     ]
    },
    {
     "data": {
      "text/plain": [
       "[<matplotlib.lines.Line2D at 0x18a828f3910>]"
      ]
     },
     "execution_count": 116,
     "metadata": {},
     "output_type": "execute_result"
    },
    {
     "data": {
      "image/png": "[encoded data removed]",
      "text/plain": [
       "<Figure size 432x288 with 1 Axes>"
      ]
     },
     "metadata": {
      "needs_background": "light"
     },
     "output_type": "display_data"
    }
   ],
   "source": [
    "x = np.linspace(0, 10, 100)\n",
    "plt.plot(1./x)\n",
    "plt.plot(1./np.exp(x) * 1./x)"
   ]
  },
  {
   "cell_type": "code",
   "execution_count": 117,
   "id": "a748d407",
   "metadata": {},
   "outputs": [
    {
     "data": {
      "text/plain": [
       "<matplotlib.collections.PathCollection at 0x18a825849a0>"
      ]
     },
     "execution_count": 117,
     "metadata": {},
     "output_type": "execute_result"
    },
    {
     "data": {
      "image/png": "[encoded data removed]",
      "text/plain": [
       "<Figure size 720x720 with 1 Axes>"
      ]
     },
     "metadata": {
      "needs_background": "light"
     },
     "output_type": "display_data"
    }
   ],
   "source": [
    "# add figure\n",
    "fig = plt.figure(figsize=(10, 10))\n",
    "ax = fig.add_subplot(111)\n",
    "\n",
    "\n",
    "cells = locs[state == True]\n",
    "empty = locs[state == False]\n",
    "\n",
    "ax.scatter(cells[:,0], cells[:,1], color='green', s= 10, alpha=0.5)\n",
    "ax.scatter(empty[:,0], empty[:,1], color='red', s=10, alpha=0.5)\n",
    "        "
   ]
  },
  {
   "cell_type": "code",
   "execution_count": 118,
   "id": "7f233c32",
   "metadata": {},
   "outputs": [
    {
     "name": "stdout",
     "output_type": "stream",
     "text": [
      "======= Scale : 2.0\n",
      "======= Scale : 3.3956818716219397\n",
      "======= Scale : 5.76532768663094\n",
      "======= Scale : 9.788609354726372\n",
      "======= Scale : 16.619501667116637\n",
      "======= Scale : 28.21727026320928\n",
      "======= Scale : 47.90843654971832\n",
      "======= Scale : 81.34090474481421\n",
      "======= Scale : 138.1039178316463\n",
      "======= Scale : 234.47848509044363\n",
      "The Hausdorff dimension is 2.564986024365422\n"
     ]
    },
    {
     "data": {
      "image/png": "[encoded data removed]",
      "text/plain": [
       "<Figure size 432x288 with 1 Axes>"
      ]
     },
     "metadata": {
      "needs_background": "light"
     },
     "output_type": "display_data"
    }
   ],
   "source": [
    "# computing the fractal dimension\n",
    "#considering only scales in a logarithmic list\n",
    "import numpy as np\n",
    "\n",
    "data = locs[state]\n",
    "Lx = L\n",
    "Ly = L\n",
    "scales=np.logspace(np.log10(2), 2.6, num=10, endpoint=False, base=10)\n",
    "Ns=[]\n",
    "# looping over several scales\n",
    "for scale in scales:\n",
    "    print (\"======= Scale :\",scale)\n",
    "    # computing the histogram\n",
    "    H, edges=np.histogramdd(data, bins=(np.linspace(0,Lx,int(scale)),np.linspace(0,Ly,int(scale))))\n",
    "    Ns.append(np.sum(H>0))\n",
    "\n",
    "eps = 1./scales\n",
    "# linear fit, polynomial of degree 1\n",
    "coeffs=np.polyfit(np.log(eps)[:5], np.log(Ns)[:5], 1)\n",
    " \n",
    "pl.plot(np.log(eps),np.log(Ns), 'o', mfc='none')\n",
    "pl.plot(np.log(eps), np.polyval(coeffs,np.log(eps)))\n",
    "pl.xlabel('log $\\epsilon$')\n",
    "pl.ylabel('log N')\n",
    " \n",
    "print (\"The Hausdorff dimension is\", -coeffs[0]) #the fractal dimension is the OPPOSITE of the fitting coefficient"
   ]
  },
  {
   "cell_type": "code",
   "execution_count": 37,
   "id": "a88c07ee",
   "metadata": {},
   "outputs": [
    {
     "data": {
      "text/plain": [
       "array([[ 5.,  2.,  2.,  3.,  6.,  7.,  3.,  1.,  5.,  1.,  2.,  1.,  2.],\n",
       "       [ 2.,  2.,  4.,  1., 11.,  5.,  2.,  4.,  4.,  0.,  3.,  4.,  1.],\n",
       "       [ 3.,  7.,  7.,  2.,  7.,  9.,  4.,  4.,  1.,  3.,  3.,  2.,  2.],\n",
       "       [ 1.,  8.,  8.,  8.,  4.,  6.,  7.,  4.,  5.,  4.,  3.,  2.,  3.],\n",
       "       [ 0.,  5.,  5.,  3.,  6.,  6.,  4.,  4.,  1.,  4.,  3.,  4.,  5.],\n",
       "       [ 3.,  4.,  6.,  6.,  5.,  4.,  3.,  5.,  3.,  3.,  3.,  2.,  3.],\n",
       "       [ 2.,  3.,  1.,  4.,  5.,  1.,  4.,  8.,  5.,  7.,  3.,  6.,  6.],\n",
       "       [ 3.,  1.,  1.,  3.,  5.,  5.,  3.,  2.,  4.,  4.,  2.,  5.,  5.],\n",
       "       [ 2.,  5.,  0.,  3.,  1.,  3.,  3.,  2.,  1.,  5.,  3.,  2.,  7.],\n",
       "       [ 0.,  1.,  1.,  3.,  4.,  5.,  2.,  1.,  1.,  4.,  3.,  5.,  3.],\n",
       "       [ 1.,  1.,  2.,  2.,  4.,  2.,  1.,  5.,  1.,  1.,  2.,  4.,  9.],\n",
       "       [ 1.,  4.,  3.,  0.,  0.,  1.,  2.,  1.,  1.,  4.,  2.,  1.,  2.],\n",
       "       [ 2.,  0.,  0.,  0.,  1.,  1.,  1.,  3.,  4.,  3.,  2.,  2.,  2.]])"
      ]
     },
     "execution_count": 37,
     "metadata": {},
     "output_type": "execute_result"
    }
   ],
   "source": [
    "H"
   ]
  },
  {
   "cell_type": "code",
   "execution_count": 59,
   "id": "8f235495",
   "metadata": {},
   "outputs": [
    {
     "data": {
      "text/plain": [
       "array([[1., 1., 0., ..., 0., 0., 0.],\n",
       "       [0., 0., 0., ..., 0., 0., 0.],\n",
       "       [0., 0., 0., ..., 0., 0., 0.],\n",
       "       ...,\n",
       "       [0., 0., 0., ..., 0., 0., 0.],\n",
       "       [0., 0., 0., ..., 0., 0., 0.],\n",
       "       [0., 0., 0., ..., 0., 0., 0.]])"
      ]
     },
     "execution_count": 59,
     "metadata": {},
     "output_type": "execute_result"
    }
   ],
   "source": [
    "H, edges=np.histogramdd(data, bins=(np.linspace(0,Lx,100),np.linspace(0,Ly,100)))\n",
    "H"
   ]
  },
  {
   "cell_type": "code",
   "execution_count": 107,
   "id": "f51c6cbc",
   "metadata": {},
   "outputs": [
    {
     "data": {
      "text/plain": [
       "2"
      ]
     },
     "execution_count": 107,
     "metadata": {},
     "output_type": "execute_result"
    }
   ],
   "source": [
    "int(10**np.log10(2))"
   ]
  },
  {
   "cell_type": "code",
   "execution_count": 1,
   "id": "8b2f2cbe",
   "metadata": {},
   "outputs": [
    {
     "name": "stdout",
     "output_type": "stream",
     "text": [
      "Real inital desity n_i = 0.0090\n",
      "\n",
      "Elapsed time 17.906590\n"
     ]
    },
    {
     "data": {
      "image/png": "[encoded data removed]",
      "text/plain": [
       "<Figure size 576x288 with 1 Axes>"
      ]
     },
     "metadata": {
      "needs_background": "light"
     },
     "output_type": "display_data"
    },
    {
     "name": "stderr",
     "output_type": "stream",
     "text": [
      "<ipython-input-1-b56a4dbfb4ea>:185: RuntimeWarning: divide by zero encountered in log\n",
      "  data = np.log(data)\n"
     ]
    },
    {
     "data": {
      "text/plain": [
       "Text(0.5, 0, 'log r')"
      ]
     },
     "execution_count": 1,
     "metadata": {},
     "output_type": "execute_result"
    },
    {
     "data": {
      "image/png": "[encoded data removed]",
      "text/plain": [
       "<Figure size 432x288 with 1 Axes>"
      ]
     },
     "metadata": {
      "needs_background": "light"
     },
     "output_type": "display_data"
    }
   ],
   "source": [
    "\"\"\"\n",
    "Evaluation of simple proximity dynamics model by counting method.\n",
    "\n",
    "\n",
    "(i) Model the network dynamics of solar panel installation\n",
    "    by assuming panel proximity as the main determining variable.\n",
    "(ii) Evaluate the early diffusion by counting solar panels in surrounding circle areas (radius r)\n",
    "    For each new panel at time t-1, the number of new panels within A_r at time t (t+1, ...) is calculated\n",
    "\n",
    "\"\"\"\n",
    "from time import time\n",
    "\n",
    "import numpy as np\n",
    "\n",
    "from numpy import array, dot, exp, sqrt\n",
    "from numpy.random import rand, seed\n",
    "from scipy.spatial.distance import pdist, squareform\n",
    "\n",
    "import matplotlib.pyplot as plt\n",
    "\n",
    "import pandas as pd\n",
    "# ----------------\n",
    "# model parameters\n",
    "# ----------------\n",
    "# \n",
    "# all distances are normalized by r0 = 0.21 km\n",
    "# i.e. r = 20 corresponds to r_real = 210 m * 20 = 4.2 km\n",
    "# \n",
    "# $ Fresno area (about 270 km^2)\n",
    "# -> model area 256 km^2 (= 16 x 16 km^2)\n",
    "\n",
    "r0 = 0.21 # km\n",
    "\n",
    "# number of addresses\n",
    "## original number N=3*10^5 \n",
    "## rescale for computability (limited memory capacity)\n",
    "NO = 30000\n",
    "scale = 1.0 / 30\n",
    "N = int(NO * scale)\n",
    "\n",
    "# area under test L^2\n",
    "# rescale by sqrt(scale)\n",
    "L = 16.0 / r0 * sqrt(scale) # km\n",
    "\n",
    "# initial panel density\n",
    "# at start of simulation\n",
    "# the reference density for the analysis is n=3%\n",
    "n0 = 0.01\n",
    "\n",
    "seed(0)\n",
    "\n",
    "# create pseudo-random locations\n",
    "locs = rand(N, 2) * L\n",
    "\n",
    "# create equidistant locations\n",
    "#sqrtN = int(sqrt(N))\n",
    "#x = np.arange(0, sqrtN) * L / sqrtN\n",
    "#y = np.arange(0, sqrtN) * L / sqrtN\n",
    "#xx, yy = np.meshgrid(x, y, sparse=False)\n",
    "#locs = np.stack((xx.flatten(), yy.flatten()), 1)\n",
    "all_dist = squareform(pdist(locs))\n",
    "\n",
    "#N = int(sqrtN * sqrtN)\n",
    "\n",
    "# initial state\n",
    "state = rand(N) < n0\n",
    "\n",
    "def density(state): # state: boolean 1-D array\n",
    "    int_state = array(state, dtype='int32')\n",
    "    return sum(int_state) * 1.0 / N\n",
    "\n",
    "n_real = density(state)\n",
    "\n",
    "print(\"Real inital desity n_i = %.4f\\n\" % n_real)\n",
    "\n",
    "exp_all_dist = exp(-all_dist)\n",
    "\n",
    "def mc_step(locs, state):\n",
    "    #\n",
    "    # iterate over all locations\n",
    "    # and update with weight exp(-d_r)\n",
    "    \n",
    "    rnds = rand(N) * N\n",
    "    \n",
    "    new_panels = []\n",
    "    \n",
    "    for i, panel in enumerate(state):\n",
    "        if not panel:       \n",
    "            p = dot(exp_all_dist[i], state)\n",
    "            state[i] = p > rnds[i]\n",
    "            if state[i]: \n",
    "                new_panels.append(i)\n",
    "            \n",
    "    return np.array(new_panels, dtype='int32')\n",
    "\n",
    "def count_new_panels_at_r(r, old_panel, new_panels, locs):\n",
    "    # count new panels at distance r\n",
    "    count = 0\n",
    "    n = 0\n",
    "    tol = 0.4 # km\n",
    "    dmin2 = (r - tol) * (r - tol)\n",
    "    dmax2 = (r + tol) * (r + tol)\n",
    "    \n",
    "    x0, y0 = locs[old_panel]\n",
    "    for i, (x, y) in enumerate(locs):\n",
    "        m = (x0-x) * (x0-x) + (y0-y) * (y0-y)\n",
    "        if dmin2 < m and dmax2 > m:\n",
    "            if i in new_panels:\n",
    "                count += 1\n",
    "            n += 1\n",
    "    \n",
    "    if n == 0:\n",
    "        return 0\n",
    "    return count * 1./n\n",
    "\n",
    "# save densities for visualizing global diffusion\n",
    "densities = []\n",
    "\n",
    "#----------------\n",
    "# run simulation\n",
    "#----------------\n",
    "n_steps = 200 # MC steps\n",
    "\n",
    "tol = 1e-3\n",
    "period = 10 # measured in MC steps\n",
    "\n",
    "# determine radii and intervals of interest\n",
    "#radii = np.array([0.5, 1.0, 2.0, 4.0], dtype='float32') * sqrt(scale) / r0\n",
    "#r_start = np.log(0.2 * sqrt(scale) / r0)\n",
    "#r_stop = np.log(4.0 * sqrt(scale) / r0)\n",
    "radii = np.linspace(0.2, 4.0, 20, endpoint=True)\n",
    "\n",
    "# indices of locs which change from state \n",
    "# False to True in a given period\n",
    "new_panels = np.array([], dtype='int32')\n",
    "old_new_panels = np.array([], dtype='int32')\n",
    "\n",
    "countP = 0\n",
    "tStart = time()\n",
    "\n",
    "data = np.array([], dtype='float64')\n",
    "\n",
    "for step in range(n_steps):\n",
    "    \n",
    "    countP += 1\n",
    "    current_new_panels = mc_step(locs, state)\n",
    "    new_panels = np.concatenate((new_panels, current_new_panels), axis=None)\n",
    "    \n",
    "    n = density(state)\n",
    "    if n > 0.6:\n",
    "        break\n",
    "    densities.append(n)\n",
    "    \n",
    "    if countP >= period:\n",
    "        \n",
    "        for r in radii:\n",
    "            counts = []\n",
    "            for old_panel in old_new_panels:\n",
    "                n = count_new_panels_at_r(r, old_panel, new_panels, locs)\n",
    "                counts.append(n)\n",
    "            \n",
    "            if len(counts) > 0:\n",
    "                data = np.append(data, [r, np.mean(counts) / r])\n",
    "            \n",
    "        \n",
    "        old_new_panels = new_panels\n",
    "        new_panels = np.array([], dtype='int32')\n",
    "        countP = 0\n",
    "    \n",
    "    # END IF\n",
    "    \n",
    "\n",
    "\n",
    "elapsed = time() - tStart\n",
    "print(\"Elapsed time %f\" % elapsed)\n",
    "\n",
    "# output\n",
    "fig = plt.figure(figsize=(8, 4))\n",
    "plt.plot(densities)\n",
    "plt.xlabel('MC step')\n",
    "plt.ylabel('module density')\n",
    "plt.show()\n",
    "\n",
    "data = data.reshape((int(data.shape[0] / 2), 2))\n",
    "data = np.log(data)\n",
    "plt.plot(data[:, 0], data[:, 1], 'o')\n",
    "plt.axis('equal')\n",
    "plt.ylabel(\" log n / r\")\n",
    "plt.xlabel(\"log r\")"
   ]
  },
  {
   "cell_type": "code",
   "execution_count": 2,
   "id": "1cee6f19",
   "metadata": {},
   "outputs": [
    {
     "data": {
      "text/plain": [
       "<matplotlib.collections.PathCollection at 0x18327bd21c0>"
      ]
     },
     "execution_count": 2,
     "metadata": {},
     "output_type": "execute_result"
    },
    {
     "data": {
      "image/png": "[encoded data removed]",
      "text/plain": [
       "<Figure size 720x720 with 1 Axes>"
      ]
     },
     "metadata": {
      "needs_background": "light"
     },
     "output_type": "display_data"
    }
   ],
   "source": [
    "# add figure\n",
    "fig = plt.figure(figsize=(10, 10))\n",
    "ax = fig.add_subplot(111)\n",
    "\n",
    "\n",
    "cells = locs[state == True]\n",
    "empty = locs[state == False]\n",
    "\n",
    "ax.scatter(cells[:,0], cells[:,1], color='green', s= 10, alpha=0.5)\n",
    "ax.scatter(empty[:,0], empty[:,1], color='red', s=10, alpha=0.5)\n",
    "        "
   ]
  },
  {
   "cell_type": "code",
   "execution_count": 30,
   "id": "0e9a1dd0",
   "metadata": {},
   "outputs": [
    {
     "name": "stdout",
     "output_type": "stream",
     "text": [
      "======= Scale : 13.91041415886136\n",
      "======= Scale : 6.95520707943068\n",
      "======= Scale : 3.47760353971534\n",
      "======= Scale : 1.73880176985767\n",
      "======= Scale : 0.869400884928835\n",
      "======= Scale : 0.4347004424644175\n",
      "======= Scale : 0.21735022123220876\n",
      "======= Scale : 0.10867511061610438\n",
      "======= Scale : 0.05433755530805219\n",
      "The Hausdorff dimension is 1.1282086744438398\n"
     ]
    },
    {
     "data": {
      "image/png": "[encoded data removed]",
      "text/plain": [
       "<Figure size 432x288 with 1 Axes>"
      ]
     },
     "metadata": {
      "needs_background": "light"
     },
     "output_type": "display_data"
    }
   ],
   "source": [
    "# computing the fractal dimension\n",
    "#considering only scales in a logarithmic list\n",
    "import numpy as np\n",
    "\n",
    "data = locs[state]\n",
    "Lx = L\n",
    "Ly = L\n",
    "scales=L * 1./2**(np.arange(0, 9, 1))\n",
    "Ns=[]\n",
    "# looping over several scales\n",
    "for scale in scales:\n",
    "    print (\"======= Scale :\",scale)\n",
    "    # computing the histogram\n",
    "    H, edges=np.histogramdd(data, bins=(np.arange(0,Lx+scale/2,scale),np.arange(0,Ly+scale/2,scale)))\n",
    "    Ns.append(np.sum(H>0))\n",
    "\n",
    "eps = scales\n",
    "# linear fit, polynomial of degree 1\n",
    "coeffs=np.polyfit(np.log(eps)[:], np.log(Ns)[:], 1)\n",
    " \n",
    "plt.plot(np.log(eps),np.log(Ns), 'o', mfc='none')\n",
    "plt.plot(np.log(eps), np.polyval(coeffs,np.log(eps)))\n",
    "plt.xlabel('log $\\epsilon$')\n",
    "plt.ylabel('log N')\n",
    " \n",
    "print (\"The Hausdorff dimension is\", -coeffs[0]) #the fractal dimension is the OPPOSITE of the fitting coefficient"
   ]
  },
  {
   "cell_type": "markdown",
   "id": "10a687f6",
   "metadata": {},
   "source": []
  },
  {
   "cell_type": "code",
   "execution_count": null,
   "id": "48eb3ab6",
   "metadata": {},
   "outputs": [],
   "source": []
  },
  {
   "cell_type": "code",
   "execution_count": null,
   "id": "9bb530a5",
   "metadata": {},
   "outputs": [],
   "source": []
  }
 ],
 "metadata": {
  "kernelspec": {
   "display_name": "Python 3 (ipykernel)",
   "language": "python",
   "name": "python3"
  },
  "language_info": {
   "codemirror_mode": {
    "name": "ipython",
    "version": 3
   },
   "file_extension": ".py",
   "mimetype": "text/x-python",
   "name": "python",
   "nbconvert_exporter": "python",
   "pygments_lexer": "ipython3",
   "version": "3.10.0"
  }
 },
 "nbformat": 4,
 "nbformat_minor": 5
}

{
 "cells": [
  {
   "cell_type": "markdown",
   "id": "42859175",
   "metadata": {},
   "source": [
    "# Agent based modelling of a wildfire"
   ]
  },
  {
   "cell_type": "code",
   "execution_count": 84,
   "id": "384c0643",
   "metadata": {},
   "outputs": [
    {
     "name": "stdout",
     "output_type": "stream",
     "text": [
      "Initial Forest\n"
     ]
    },
    {
     "data": {
      "image/png": "[encoded data removed]",
      "text/plain": [
       "<Figure size 432x432 with 1 Axes>"
      ]
     },
     "metadata": {
      "needs_background": "light"
     },
     "output_type": "display_data"
    },
    {
     "name": "stdout",
     "output_type": "stream",
     "text": [
      "Fire has been set\n"
     ]
    },
    {
     "data": {
      "image/png": "[encoded data removed]",
      "text/plain": [
       "<Figure size 432x432 with 1 Axes>"
      ]
     },
     "metadata": {
      "needs_background": "light"
     },
     "output_type": "display_data"
    }
   ],
   "source": [
    "\"\"\"Agent based modelling of a wildfire.\n",
    "\n",
    "@author: Damian Hoedtke\n",
    "@date: Feb, 28th '22\n",
    "\n",
    "\"\"\"\n",
    "import numpy as np\n",
    "import matplotlib.pyplot as plt\n",
    "\n",
    "from dataclasses import dataclass\n",
    "\n",
    "# constants\n",
    "STATE_EMPTY = -1\n",
    "STATE_ALIVE = 0\n",
    "STATE_BURNING = 1\n",
    "STATE_BURNED = 2\n",
    "\n",
    "@dataclass\n",
    "class Tree:\n",
    "    state: int # see states\n",
    "    burning_time: float\n",
    "\n",
    "        \n",
    "@dataclass\n",
    "class Forest:\n",
    "    trees: np.ndarray\n",
    "    xsize: int\n",
    "    ysize: int\n",
    "    time: float\n",
    "\n",
    "        \n",
    "def create_forest(Ni, density):\n",
    "    trees = np.ndarray((Ni, Ni), dtype=Tree)\n",
    "    forest = Forest(trees, trees.shape[0], trees.shape[1], time=0)\n",
    "    # plant trees\n",
    "    n_trees = int(density * forest.trees.size)\n",
    "    rng = np.random.default_rng(seed=101)\n",
    "    floating_indices = rng.choice(forest.trees.size, size=n_trees, replace=False)\n",
    "    indices = np.column_stack(np.unravel_index(floating_indices, forest.trees.shape))\n",
    "    for index in indices:\n",
    "        forest.trees[tuple(index)] = Tree(STATE_ALIVE, burning_time=0)\n",
    "    return forest\n",
    "\n",
    "def array_repr(forest: Forest):\n",
    "    \"\"\"Returns the array representation of the forest.\n",
    "    \n",
    "    -1: no tree\n",
    "    0: lively tree\n",
    "    1: burning tree\n",
    "    2: burned\n",
    "    \"\"\"\n",
    "    array_forest = np.zeros((forest.xsize, forest.ysize), dtype=np.int64)\n",
    "    for k, tree in np.ndenumerate(forest.trees):\n",
    "        array_forest[k] = tree.state if tree else STATE_EMPTY\n",
    "    return array_forest\n",
    "\n",
    "forest = create_forest(5, 0.5)\n",
    "\n",
    "def show(forest):\n",
    "    fig = plt.figure(figsize=(6, 6))\n",
    "    palette = np.array([[0, 102, 0],\n",
    "                        [225, 24, 24],\n",
    "                        [92, 1, 1],\n",
    "                        [102, 51, 0]])\n",
    "    # convert tree states to colors\n",
    "    state = array_repr(forest)\n",
    "    color_state = np.copy(state)\n",
    "    color_state[state == STATE_EMPTY] = -1\n",
    "    color_state[state == STATE_ALIVE] = 0\n",
    "    color_state[state == STATE_BURNING] = 1\n",
    "    color_state[state == STATE_BURNED] = 2\n",
    "    \n",
    "    plt.imshow(palette[color_state])\n",
    "    plt.show()\n",
    "\n",
    "print('Initial Forest')\n",
    "show(forest)\n",
    "\n",
    "def ignite(forest, index):\n",
    "    # seed fire\n",
    "    forest.trees[index] = Tree(STATE_BURNING, burning_time=0)\n",
    "    # reset time\n",
    "    forest.time = 0.\n",
    "    \n",
    "def seed_fire(forest):\n",
    "    # seed fire at the west (left) side\n",
    "    # find tree with acceptable location\n",
    "    # for simplicity the tree density\n",
    "    # is ignored and one fixed burning tree is created\n",
    "    index = (int(0.5 * forest.trees.shape[0]), 1)\n",
    "    # seed fire\n",
    "    ignite(index)\n",
    "\n",
    "seed_fire(forest)\n",
    "print('Fire has been set')\n",
    "show(forest)\n",
    "    \n",
    "def elapse(forest, dt, dt_burning):\n",
    "    is_burning = lambda tree: tree.state == STATE_BURNING\n",
    "    for k, tree in np.ndenumerate(forest.trees):\n",
    "        if tree: # None if empty\n",
    "            if is_burning(tree):\n",
    "                # a burning tree spreads to each of its neigbours\n",
    "                i, j = k\n",
    "                for index in neighbours:\n",
    "                    tree = forest.trees[tuple(index)]\n",
    "                    if tree:\n",
    "                        if tree.state == STATE_ALIVE:\n",
    "                            tree.state \n",
    "                \n",
    "                # increase burning time\n",
    "                tree.burning_time += 1\n",
    "                # fire goes out after dt_burning\n",
    "                if tree_burning_time >= dt_burning: tree.state == STATE_BURNED\n",
    "                \n",
    "    \n",
    "    \n",
    "print('After 10 days')\n",
    "elapse(forest, 1, 1)\n",
    "show(forest)"
   ]
  },
  {
   "cell_type": "code",
   "execution_count": 58,
   "id": "8b4ce1db",
   "metadata": {},
   "outputs": [],
   "source": [
    "# Visualizations\n"
   ]
  },
  {
   "cell_type": "code",
   "execution_count": 55,
   "id": "8c5e6ffc",
   "metadata": {},
   "outputs": [
    {
     "data": {
      "text/plain": [
       "Tree(state=0)"
      ]
     },
     "execution_count": 55,
     "metadata": {},
     "output_type": "execute_result"
    }
   ],
   "source": []
  },
  {
   "cell_type": "code",
   "execution_count": null,
   "id": "c86a538d",
   "metadata": {},
   "outputs": [],
   "source": []
  }
 ],
 "metadata": {
  "kernelspec": {
   "display_name": "Python 3 (ipykernel)",
   "language": "python",
   "name": "python3"
  },
  "language_info": {
   "codemirror_mode": {
    "name": "ipython",
    "version": 3
   },
   "file_extension": ".py",
   "mimetype": "text/x-python",
   "name": "python",
   "nbconvert_exporter": "python",
   "pygments_lexer": "ipython3",
   "version": "3.10.0"
  }
 },
 "nbformat": 4,
 "nbformat_minor": 5
}

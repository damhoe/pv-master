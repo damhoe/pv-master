{
 "cells": [
  {
   "cell_type": "code",
   "execution_count": 24,
   "id": "444af176",
   "metadata": {},
   "outputs": [
    {
     "data": {
      "text/plain": [
       "(array([ 71.,  71.,  83., 114.,  93., 114., 105., 106.,  87.,  81.,  75.]),\n",
       " array([ 0,  1,  2,  3,  4,  5,  6,  7,  8,  9, 10, 11]),\n",
       " <BarContainer object of 11 artists>)"
      ]
     },
     "execution_count": 24,
     "metadata": {},
     "output_type": "execute_result"
    },
    {
     "data": {
      "image/png": "[encoded data removed]",
      "text/plain": [
       "<Figure size 432x288 with 1 Axes>"
      ]
     },
     "metadata": {
      "needs_background": "light"
     },
     "output_type": "display_data"
    }
   ],
   "source": [
    "\"\"\" Gibbs Sampling.\n",
    "\n",
    "@author: Damian Hoedtke\n",
    "@date: June, 22nd '21\n",
    "\n",
    "\"\"\"\n",
    "from numpy.random import rand, seed\n",
    "from numpy import ones\n",
    "import matplotlib.pyplot as plt\n",
    "\n",
    "# initial distribution\n",
    "n = 10\n",
    "seed(0)\n",
    "state0 = rand(n) > 0.5\n",
    "\n",
    "# MC step\n",
    "def mc_step(state):\n",
    "    \n",
    "    for i, point in enumerate(state):\n",
    "        \n",
    "        # calculate density\n",
    "        rho = sum(state) / state.size\n",
    "    \n",
    "        # sample probability\n",
    "        a = 0.8\n",
    "        p = (1.0 - a) * 0.5 + a * rho\n",
    "        \n",
    "        # assign new value\n",
    "        state[i] = (rand(1) < p)[0]\n",
    "    \n",
    "nsamples = 1000\n",
    "nsteps = 100\n",
    "\n",
    "result = []\n",
    "\n",
    "for _ in range(nsamples):\n",
    "    state = rand(n) > 0.5\n",
    "    \n",
    "    for _ in range(nsteps):\n",
    "        mc_step(state)\n",
    "        \n",
    "    result.append(sum(state))\n",
    "    \n",
    "plt.hist(result, bins=[i for i in range(n+2)])\n",
    "    "
   ]
  },
  {
   "cell_type": "code",
   "execution_count": 62,
   "id": "5a89a22c",
   "metadata": {},
   "outputs": [
    {
     "data": {
      "image/png": "[encoded data removed]",
      "text/plain": [
       "<Figure size 432x288 with 1 Axes>"
      ]
     },
     "metadata": {
      "needs_background": "light"
     },
     "output_type": "display_data"
    }
   ],
   "source": [
    "# initial distribution\n",
    "n = 2\n",
    "seed(0)\n",
    "state0 = rand(n) > 0.8\n",
    "\n",
    "# MC step\n",
    "def mc_step(state):\n",
    "    \n",
    "    for i, point in enumerate(state):\n",
    "        \n",
    "        # calculate density\n",
    "        if i == 0:\n",
    "            rho = state[1]\n",
    "        elif i==1:\n",
    "            rho = state[0]\n",
    "        elif i==2:\n",
    "            rho = state[3]\n",
    "        elif i==3:\n",
    "            rho = state[2]\n",
    "    \n",
    "        # sample probability\n",
    "        a = 0.5\n",
    "        p = (1.0 - a) * 0.2 + a * rho\n",
    "        \n",
    "        # assign new value\n",
    "        state[i] = (rand(1) < p)[0]\n",
    "    \n",
    "nsamples = 2000\n",
    "nsteps = 50\n",
    "\n",
    "result = []\n",
    "\n",
    "for _ in range(nsamples):\n",
    "    state = rand(n) > 0.8\n",
    "    \n",
    "    for _ in range(nsteps):\n",
    "        mc_step(state)\n",
    "        \n",
    "    result.append(sum(state))\n",
    "    \n",
    "arr, bins, bar = plt.hist(result, bins=[i for i in range(n+2)])\n",
    "    "
   ]
  },
  {
   "cell_type": "code",
   "execution_count": 63,
   "id": "50c813c8",
   "metadata": {},
   "outputs": [
    {
     "data": {
      "text/plain": [
       "0.392"
      ]
     },
     "execution_count": 63,
     "metadata": {},
     "output_type": "execute_result"
    }
   ],
   "source": [
    "arr[1] / sum(arr) + 2 * arr[2] / sum(arr)"
   ]
  },
  {
   "cell_type": "code",
   "execution_count": null,
   "id": "ecd319e2",
   "metadata": {},
   "outputs": [],
   "source": []
  }
 ],
 "metadata": {
  "kernelspec": {
   "display_name": "Python 3",
   "language": "python",
   "name": "python3"
  },
  "language_info": {
   "codemirror_mode": {
    "name": "ipython",
    "version": 3
   },
   "file_extension": ".py",
   "mimetype": "text/x-python",
   "name": "python",
   "nbconvert_exporter": "python",
   "pygments_lexer": "ipython3",
   "version": "3.9.5"
  }
 },
 "nbformat": 4,
 "nbformat_minor": 5
}
